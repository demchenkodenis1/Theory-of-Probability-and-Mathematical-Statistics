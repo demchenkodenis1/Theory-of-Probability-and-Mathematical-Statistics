{
  "nbformat": 4,
  "nbformat_minor": 0,
  "metadata": {
    "colab": {
      "name": "Lesson_2.ipynb",
      "provenance": [],
      "authorship_tag": "ABX9TyMRRkt3Vcuh+iWx6xCqn7Y6",
      "include_colab_link": true
    },
    "kernelspec": {
      "name": "python3",
      "display_name": "Python 3"
    },
    "language_info": {
      "name": "python"
    }
  },
  "cells": [
    {
      "cell_type": "markdown",
      "metadata": {
        "id": "view-in-github",
        "colab_type": "text"
      },
      "source": [
        "<a href=\"https://colab.research.google.com/github/demchenkodenis1/Theory-of-Probability-and-Mathematical-Statistics/blob/lesson_2/Lesson_2.ipynb\" target=\"_parent\"><img src=\"https://colab.research.google.com/assets/colab-badge.svg\" alt=\"Open In Colab\"/></a>"
      ]
    },
    {
      "cell_type": "markdown",
      "source": [
        "1. Вероятность того, что стрелок попадет в мишень, выстрелив один раз, равна 0.8. Стрелок выстрелил 100 раз. Найдите вероятность того, что стрелок попадет в цель ровно 85 раз."
      ],
      "metadata": {
        "id": "gVhQP3DRvs-z"
      }
    },
    {
      "cell_type": "markdown",
      "source": [
        "Поскольку вероятность низкая а кол-во испытаний высокое мы пользуемся формулой Бернули, где p = 0,8 n = 100 k = 85 q = 0,2"
      ],
      "metadata": {
        "id": "H80Lw6L11ZAP"
      }
    },
    {
      "cell_type": "code",
      "source": [
        "from math import factorial\n",
        "import numpy as np"
      ],
      "metadata": {
        "id": "QqtAOWB54l9x"
      },
      "execution_count": 51,
      "outputs": []
    },
    {
      "cell_type": "code",
      "source": [
        "def combinations(n, k):\n",
        "    return int(factorial(n) / (factorial(k) * factorial(n - k)))"
      ],
      "metadata": {
        "id": "FD4LMd-EUeKt"
      },
      "execution_count": 52,
      "outputs": []
    },
    {
      "cell_type": "code",
      "source": [
        "n = 100\n",
        "k = 85\n",
        "p = 0.8\n",
        "X = combinations(n, k) * (p ** k) * (1 - p) ** (n - k)\n",
        "X"
      ],
      "metadata": {
        "colab": {
          "base_uri": "https://localhost:8080/"
        },
        "id": "m-vNRgQrUjGz",
        "outputId": "bb99eb4c-aeb0-4305-a157-00a928a11904"
      },
      "execution_count": 53,
      "outputs": [
        {
          "output_type": "execute_result",
          "data": {
            "text/plain": [
              "0.048061793700746355"
            ]
          },
          "metadata": {},
          "execution_count": 53
        }
      ]
    },
    {
      "cell_type": "markdown",
      "source": [
        "2.Вероятность того, что лампочка перегорит в течение первого дня эксплуатации, равна 0.0004. В жилом комплексе после ремонта в один день включили 5000 новых лампочек. Какова вероятность, что ни одна из них не перегорит в первый день? Какова вероятность, что перегорят ровно две?\n",
        "В этом случае применяется формула Пуассона, где λ = 0.0004 * 5000"
      ],
      "metadata": {
        "id": "7L93YvtQDXm9"
      }
    },
    {
      "cell_type": "code",
      "metadata": {
        "id": "91FItk5GzdqS",
        "colab": {
          "base_uri": "https://localhost:8080/"
        },
        "outputId": "971cf5ce-1c98-4338-a6ad-816e0cdc2983"
      },
      "source": [
        "n = 5000\n",
        "m = 0\n",
        "p = 0.0004\n",
        "lambda_ = n * p\n",
        "\n",
        "(lambda_**m / np.math.factorial(m)) * np.exp(-lambda_)"
      ],
      "execution_count": 54,
      "outputs": [
        {
          "output_type": "execute_result",
          "data": {
            "text/plain": [
              "0.1353352832366127"
            ]
          },
          "metadata": {},
          "execution_count": 54
        }
      ]
    },
    {
      "cell_type": "code",
      "source": [
        "n = 5000\n",
        "m = 2\n",
        "p = 0.0004\n",
        "lambda_ = n * p\n",
        "\n",
        "(lambda_**m / np.math.factorial(m)) * np.exp(-lambda_)"
      ],
      "metadata": {
        "colab": {
          "base_uri": "https://localhost:8080/"
        },
        "id": "mTeKkbOhTJIu",
        "outputId": "a95bfb9e-0b53-4cd2-9c12-cf30204438fc"
      },
      "execution_count": 55,
      "outputs": [
        {
          "output_type": "execute_result",
          "data": {
            "text/plain": [
              "0.2706705664732254"
            ]
          },
          "metadata": {},
          "execution_count": 55
        }
      ]
    },
    {
      "cell_type": "markdown",
      "source": [
        "3. Монету подбросили 144 раза. Какова вероятность, что орел выпадет ровно 70 раз?"
      ],
      "metadata": {
        "id": "KVbr1hwpTqYM"
      }
    },
    {
      "cell_type": "code",
      "source": [
        "n = 144\n",
        "k = 70\n",
        "p = 1/2\n",
        "X = combinations(n, k) * (p ** k) * (1 - p) ** (n - k)\n",
        "X"
      ],
      "metadata": {
        "colab": {
          "base_uri": "https://localhost:8080/"
        },
        "id": "bt5t9W9qVRyd",
        "outputId": "b8977f95-3095-41a3-fa98-1a24a58d8bbb"
      },
      "execution_count": 56,
      "outputs": [
        {
          "output_type": "execute_result",
          "data": {
            "text/plain": [
              "0.06281178035144776"
            ]
          },
          "metadata": {},
          "execution_count": 56
        }
      ]
    },
    {
      "cell_type": "markdown",
      "source": [
        "4. В первом ящике находится 10 мячей, из которых 7 - белые. Во втором ящике - 11 мячей, из которых 9 белых. Из каждого ящика вытаскивают случайным образом по два мяча. Какова вероятность того, что все мячи белые? Какова вероятность того, что ровно два мяча белые? Какова вероятность того, что хотя бы один мяч белый?"
      ],
      "metadata": {
        "id": "B-fasss1V7cv"
      }
    },
    {
      "cell_type": "markdown",
      "source": [
        "Когда все белые"
      ],
      "metadata": {
        "id": "LuLxMK1vXIxz"
      }
    },
    {
      "cell_type": "code",
      "source": [
        "combinations(7, 2) / combinations(10, 2) * combinations(9, 2) / combinations(11, 2)"
      ],
      "metadata": {
        "colab": {
          "base_uri": "https://localhost:8080/"
        },
        "id": "WCP6Y4jdWpoV",
        "outputId": "7962f9c4-ac26-485b-cb9f-7c3ab6a4c3fc"
      },
      "execution_count": 57,
      "outputs": [
        {
          "output_type": "execute_result",
          "data": {
            "text/plain": [
              "0.3054545454545455"
            ]
          },
          "metadata": {},
          "execution_count": 57
        }
      ]
    },
    {
      "cell_type": "markdown",
      "source": [
        "Когда хотя бы один белый"
      ],
      "metadata": {
        "id": "4u3-N5K7XpS1"
      }
    },
    {
      "cell_type": "code",
      "source": [
        "1 - combinations(3, 2) / combinations(10, 2) * combinations(2, 2) / combinations(11, 2)"
      ],
      "metadata": {
        "colab": {
          "base_uri": "https://localhost:8080/"
        },
        "id": "6m0E1hmAXsm9",
        "outputId": "dfa7eeb1-ef9c-4b43-b08a-6f5037ea8f03"
      },
      "execution_count": 58,
      "outputs": [
        {
          "output_type": "execute_result",
          "data": {
            "text/plain": [
              "0.9987878787878788"
            ]
          },
          "metadata": {},
          "execution_count": 58
        }
      ]
    },
    {
      "cell_type": "markdown",
      "source": [
        "когда ровно 2 мяча белые"
      ],
      "metadata": {
        "id": "17Kc2DrjYL1Q"
      }
    },
    {
      "cell_type": "code",
      "source": [
        "p1 = combinations(7, 2) / combinations(10, 2) * combinations(2, 2) / combinations(11, 2)\n",
        "p1"
      ],
      "metadata": {
        "colab": {
          "base_uri": "https://localhost:8080/"
        },
        "id": "4aSbmaqzYO-6",
        "outputId": "584a9c45-8dbf-48ec-cc80-2edb8c542879"
      },
      "execution_count": 59,
      "outputs": [
        {
          "output_type": "execute_result",
          "data": {
            "text/plain": [
              "0.008484848484848486"
            ]
          },
          "metadata": {},
          "execution_count": 59
        }
      ]
    },
    {
      "cell_type": "code",
      "source": [
        "p2 = combinations(3, 2) / combinations(10, 2) * combinations(9, 2) / combinations(11, 2)\n",
        "p2"
      ],
      "metadata": {
        "colab": {
          "base_uri": "https://localhost:8080/"
        },
        "id": "V1BIQTEpZv_t",
        "outputId": "0945f221-0bbd-455b-a41d-ce0ae839e730"
      },
      "execution_count": 60,
      "outputs": [
        {
          "output_type": "execute_result",
          "data": {
            "text/plain": [
              "0.04363636363636363"
            ]
          },
          "metadata": {},
          "execution_count": 60
        }
      ]
    },
    {
      "cell_type": "code",
      "source": [
        "p3 = combinations(7, 1) * combinations(3, 1) / combinations(10, 2) * combinations(9, 1) * combinations(2, 1) / combinations(11, 2)\n",
        "p3"
      ],
      "metadata": {
        "colab": {
          "base_uri": "https://localhost:8080/"
        },
        "id": "KLaQrKAKZ4L1",
        "outputId": "d49a2cdb-29f6-45a5-fb69-045be10dbf57"
      },
      "execution_count": 61,
      "outputs": [
        {
          "output_type": "execute_result",
          "data": {
            "text/plain": [
              "0.15272727272727274"
            ]
          },
          "metadata": {},
          "execution_count": 61
        }
      ]
    },
    {
      "cell_type": "code",
      "source": [
        "p = p1 + p2 + p3 \n",
        "p"
      ],
      "metadata": {
        "colab": {
          "base_uri": "https://localhost:8080/"
        },
        "id": "H7DnF4HwaTIR",
        "outputId": "7051e78c-b799-42e9-fa52-9f82f2190551"
      },
      "execution_count": 62,
      "outputs": [
        {
          "output_type": "execute_result",
          "data": {
            "text/plain": [
              "0.20484848484848486"
            ]
          },
          "metadata": {},
          "execution_count": 62
        }
      ]
    }
  ]
}
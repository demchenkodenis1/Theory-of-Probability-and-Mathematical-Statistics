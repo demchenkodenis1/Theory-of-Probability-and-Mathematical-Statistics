{
  "nbformat": 4,
  "nbformat_minor": 0,
  "metadata": {
    "colab": {
      "name": "Lesson_3.ipynb",
      "provenance": [],
      "collapsed_sections": [],
      "authorship_tag": "ABX9TyP+TBtdz9JxIMDzx1vKnCZK",
      "include_colab_link": true
    },
    "kernelspec": {
      "name": "python3",
      "display_name": "Python 3"
    },
    "language_info": {
      "name": "python"
    }
  },
  "cells": [
    {
      "cell_type": "markdown",
      "metadata": {
        "id": "view-in-github",
        "colab_type": "text"
      },
      "source": [
        "<a href=\"https://colab.research.google.com/github/demchenkodenis1/Theory-of-Probability-and-Mathematical-Statistics/blob/lesson_3/Lesson_3.ipynb\" target=\"_parent\"><img src=\"https://colab.research.google.com/assets/colab-badge.svg\" alt=\"Open In Colab\"/></a>"
      ]
    },
    {
      "cell_type": "code",
      "execution_count": 10,
      "metadata": {
        "id": "b0SKZpgfcreY"
      },
      "outputs": [],
      "source": [
        "from math import factorial\n",
        "import numpy as np"
      ]
    },
    {
      "cell_type": "markdown",
      "source": [
        "В первом ящике находится 8 мячей, из которых 5 - белые. Во втором ящике - 12 мячей, из которых 5 белых. Из первого ящика вытаскивают случайным образом два мяча, из второго - 4. Какова вероятность того, что 3 мяча белые?"
      ],
      "metadata": {
        "id": "259VWMhBcvAa"
      }
    },
    {
      "cell_type": "code",
      "source": [
        "def combinations(n, k):\n",
        "    return int(factorial(n) / (factorial(k) * factorial(n - k)))"
      ],
      "metadata": {
        "id": "_EK8IgS1ds39"
      },
      "execution_count": 11,
      "outputs": []
    },
    {
      "cell_type": "markdown",
      "source": [
        "Случай когда из 1 ящика вытаскиваем 0 белых мячей а из второго 3 белых и 1 черный\n",
        "\n",
        "---\n",
        "\n"
      ],
      "metadata": {
        "id": "_XsTon0jd16R"
      }
    },
    {
      "cell_type": "code",
      "source": [
        "p1 = ((combinations(5, 0) * combinations(3, 2)) / combinations(8, 2)) * ((combinations(5, 3) * combinations(7, 1)) / combinations(12, 4))\n",
        "p1"
      ],
      "metadata": {
        "colab": {
          "base_uri": "https://localhost:8080/"
        },
        "id": "DY7pk7M7eKo8",
        "outputId": "5dcb1d52-21bd-4221-c2f5-a6d013020280"
      },
      "execution_count": 12,
      "outputs": [
        {
          "output_type": "execute_result",
          "data": {
            "text/plain": [
              "0.01515151515151515"
            ]
          },
          "metadata": {},
          "execution_count": 12
        }
      ]
    },
    {
      "cell_type": "markdown",
      "source": [
        "Случай когда из 1 ящика вытаскиваем 1 белый мяч а из второго 2 белых"
      ],
      "metadata": {
        "id": "3tcjG_FOfJga"
      }
    },
    {
      "cell_type": "code",
      "source": [
        "p2 = ((combinations(5, 1) * combinations(3, 1)) / combinations(8, 2)) * ((combinations(5, 2) * combinations(7, 2)) / combinations(12, 4))\n",
        "p2"
      ],
      "metadata": {
        "colab": {
          "base_uri": "https://localhost:8080/"
        },
        "id": "7bkef5DUfYMX",
        "outputId": "663b1e07-0e7d-4403-fd72-3410f94a31af"
      },
      "execution_count": 13,
      "outputs": [
        {
          "output_type": "execute_result",
          "data": {
            "text/plain": [
              "0.22727272727272727"
            ]
          },
          "metadata": {},
          "execution_count": 13
        }
      ]
    },
    {
      "cell_type": "markdown",
      "source": [
        "Случай когда из 1 ящика вытаскиваем 2 белыч мяч а из второго 1 белый мяч\n",
        "\n",
        "\n",
        "\n",
        "\n"
      ],
      "metadata": {
        "id": "AeCCMtDdfrJM"
      }
    },
    {
      "cell_type": "code",
      "source": [
        "p3 = ((combinations(5, 2) * combinations(3, 0)) / combinations(8, 2)) * ((combinations(5, 1) * combinations(7, 3)) / combinations(12, 4))\n",
        "p3"
      ],
      "metadata": {
        "colab": {
          "base_uri": "https://localhost:8080/"
        },
        "id": "frmSKQACf1rT",
        "outputId": "390a3bd8-1b12-49ee-dc91-eeeae2aad8ec"
      },
      "execution_count": 14,
      "outputs": [
        {
          "output_type": "execute_result",
          "data": {
            "text/plain": [
              "0.12626262626262627"
            ]
          },
          "metadata": {},
          "execution_count": 14
        }
      ]
    },
    {
      "cell_type": "code",
      "source": [
        "p = p1 + p2 + p3 \n",
        "p"
      ],
      "metadata": {
        "colab": {
          "base_uri": "https://localhost:8080/"
        },
        "id": "lHPYvgTngS78",
        "outputId": "19b5d085-9abf-4f6a-b3e7-a3e0e13d1624"
      },
      "execution_count": 15,
      "outputs": [
        {
          "output_type": "execute_result",
          "data": {
            "text/plain": [
              "0.3686868686868687"
            ]
          },
          "metadata": {},
          "execution_count": 15
        }
      ]
    },
    {
      "cell_type": "markdown",
      "source": [
        "На соревновании по биатлону один из трех спортсменов стреляет и попадает в мишень. Вероятность попадания для первого спортсмена равна 0.9, для второго — 0.8, для третьего — 0.6. Найти вероятность того, что выстрел произведен: a). первым спортсменом б). вторым спортсменом в). третьим спортсменом."
      ],
      "metadata": {
        "id": "_scNme_xgepq"
      }
    },
    {
      "cell_type": "code",
      "source": [
        "p1 = 0.9\n",
        "p2 = 0.8\n",
        "p3 = 0.6\n",
        "p4 = 1/3 * 0.9 + 1/3 * 0.8 + 1/3 * 0.6\n",
        "p4"
      ],
      "metadata": {
        "colab": {
          "base_uri": "https://localhost:8080/"
        },
        "id": "_D3I-ELRgfXU",
        "outputId": "b8257082-7b8d-4a3c-8f46-1c2956d4d72d"
      },
      "execution_count": 16,
      "outputs": [
        {
          "output_type": "execute_result",
          "data": {
            "text/plain": [
              "0.7666666666666666"
            ]
          },
          "metadata": {},
          "execution_count": 16
        }
      ]
    },
    {
      "cell_type": "code",
      "source": [
        "p1 = 1/3 * 0.9 / p4\n",
        "p1"
      ],
      "metadata": {
        "colab": {
          "base_uri": "https://localhost:8080/"
        },
        "id": "yrs-2e0Xi9Cx",
        "outputId": "ebd46510-d16d-42f1-dd20-dd479b3802f8"
      },
      "execution_count": 17,
      "outputs": [
        {
          "output_type": "execute_result",
          "data": {
            "text/plain": [
              "0.391304347826087"
            ]
          },
          "metadata": {},
          "execution_count": 17
        }
      ]
    },
    {
      "cell_type": "code",
      "source": [
        "p2 = 1/3 * 0.8 / p4\n",
        "p2"
      ],
      "metadata": {
        "colab": {
          "base_uri": "https://localhost:8080/"
        },
        "id": "jqMUkqMHjGSn",
        "outputId": "27ae67f3-7860-4b10-83c8-cd3212caffff"
      },
      "execution_count": 18,
      "outputs": [
        {
          "output_type": "execute_result",
          "data": {
            "text/plain": [
              "0.3478260869565218"
            ]
          },
          "metadata": {},
          "execution_count": 18
        }
      ]
    },
    {
      "cell_type": "code",
      "source": [
        "p3 = 1/3 * 0.6 / p4\n",
        "p3"
      ],
      "metadata": {
        "colab": {
          "base_uri": "https://localhost:8080/"
        },
        "id": "4yinNzMijT5N",
        "outputId": "97121628-a2bc-4770-9f28-716a16c74772"
      },
      "execution_count": 19,
      "outputs": [
        {
          "output_type": "execute_result",
          "data": {
            "text/plain": [
              "0.2608695652173913"
            ]
          },
          "metadata": {},
          "execution_count": 19
        }
      ]
    },
    {
      "cell_type": "code",
      "source": [
        "p1 + p2 + p3"
      ],
      "metadata": {
        "colab": {
          "base_uri": "https://localhost:8080/"
        },
        "id": "NGMqxwS0jeh2",
        "outputId": "cec48aa0-6dd4-4f53-e24f-a6fc6202d123"
      },
      "execution_count": 20,
      "outputs": [
        {
          "output_type": "execute_result",
          "data": {
            "text/plain": [
              "1.0"
            ]
          },
          "metadata": {},
          "execution_count": 20
        }
      ]
    },
    {
      "cell_type": "markdown",
      "source": [
        "В университет на факультеты A и B поступило равное количество студентов, а на факультет C студентов поступило столько же, сколько на A и B вместе. Вероятность того, что студент факультета A сдаст первую сессию, равна 0.8. Для студента факультета B эта вероятность равна 0.7, а для студента факультета C - 0.9. Студент сдал первую сессию. Какова вероятность, что он учится: a). на факультете A б). на факультете B в). на факультете C?"
      ],
      "metadata": {
        "id": "eLUzduHHmB_x"
      }
    },
    {
      "cell_type": "code",
      "source": [
        "pA = 0.8\n",
        "pB = 0.7\n",
        "pC = 0.9\n",
        "p4 = 1/3 * 0.9 + 1/3 * 0.8 + 1/3 * 0.6\n",
        "p4"
      ],
      "metadata": {
        "colab": {
          "base_uri": "https://localhost:8080/"
        },
        "id": "KUQ3lr-GmMHB",
        "outputId": "0a73b254-f256-46f3-af48-231e9e01071a"
      },
      "execution_count": 21,
      "outputs": [
        {
          "output_type": "execute_result",
          "data": {
            "text/plain": [
              "0.7666666666666666"
            ]
          },
          "metadata": {},
          "execution_count": 21
        }
      ]
    },
    {
      "cell_type": "markdown",
      "source": [
        "x = 1/4 # вероятность что студент окажется с факультета А или В"
      ],
      "metadata": {
        "id": "bZDUffPVmiGe"
      }
    },
    {
      "cell_type": "code",
      "source": [
        "1/4 * 2 # вероятность что студент окажется с факультета С "
      ],
      "metadata": {
        "colab": {
          "base_uri": "https://localhost:8080/"
        },
        "id": "fV06oR4umxWr",
        "outputId": "6bf9c5e6-cafb-4165-9465-d34320858994"
      },
      "execution_count": 22,
      "outputs": [
        {
          "output_type": "execute_result",
          "data": {
            "text/plain": [
              "0.5"
            ]
          },
          "metadata": {},
          "execution_count": 22
        }
      ]
    },
    {
      "cell_type": "code",
      "source": [
        "P = 1/4 * 0.8 + 1/4 * 0.7 + 1/2 * 0.9 # полная вероятность события А\n",
        "P"
      ],
      "metadata": {
        "colab": {
          "base_uri": "https://localhost:8080/"
        },
        "id": "QPRYdDGcnEBR",
        "outputId": "d318bdba-359a-4c28-da5a-73a7f1c9ac96"
      },
      "execution_count": 25,
      "outputs": [
        {
          "output_type": "execute_result",
          "data": {
            "text/plain": [
              "0.825"
            ]
          },
          "metadata": {},
          "execution_count": 25
        }
      ]
    },
    {
      "cell_type": "code",
      "source": [
        "A = 1/4 * 0.8 / P\n",
        "A"
      ],
      "metadata": {
        "colab": {
          "base_uri": "https://localhost:8080/"
        },
        "id": "QR3UiAv3npea",
        "outputId": "f5a424f4-02a0-4cda-8d08-edefdae96bd7"
      },
      "execution_count": 26,
      "outputs": [
        {
          "output_type": "execute_result",
          "data": {
            "text/plain": [
              "0.24242424242424246"
            ]
          },
          "metadata": {},
          "execution_count": 26
        }
      ]
    },
    {
      "cell_type": "code",
      "source": [
        "B = 1/4 * 0.7 / P\n",
        "B"
      ],
      "metadata": {
        "colab": {
          "base_uri": "https://localhost:8080/"
        },
        "id": "ktkmE90Jn3Cz",
        "outputId": "489700a8-0f6c-4c08-aa43-c066b7664d73"
      },
      "execution_count": 27,
      "outputs": [
        {
          "output_type": "execute_result",
          "data": {
            "text/plain": [
              "0.21212121212121213"
            ]
          },
          "metadata": {},
          "execution_count": 27
        }
      ]
    },
    {
      "cell_type": "code",
      "source": [
        "C = 1/2 * 0.9 / P\n",
        "C"
      ],
      "metadata": {
        "colab": {
          "base_uri": "https://localhost:8080/"
        },
        "id": "K98RlCPdn7F5",
        "outputId": "9f878a82-aed8-4b20-aa19-e4e702e5847e"
      },
      "execution_count": 28,
      "outputs": [
        {
          "output_type": "execute_result",
          "data": {
            "text/plain": [
              "0.5454545454545455"
            ]
          },
          "metadata": {},
          "execution_count": 28
        }
      ]
    },
    {
      "cell_type": "code",
      "source": [
        "A + B + C"
      ],
      "metadata": {
        "colab": {
          "base_uri": "https://localhost:8080/"
        },
        "id": "dK7U0kN1oCgJ",
        "outputId": "9d070854-8add-4e9a-f2b2-8e918b4d4ab7"
      },
      "execution_count": 29,
      "outputs": [
        {
          "output_type": "execute_result",
          "data": {
            "text/plain": [
              "1.0"
            ]
          },
          "metadata": {},
          "execution_count": 29
        }
      ]
    },
    {
      "cell_type": "markdown",
      "source": [
        "Устройство состоит из трех деталей. Для первой детали вероятность выйти из строя в первый месяц равна 0.1, для второй - 0.2, для третьей - 0.25. Какова вероятность того, что в первый месяц выйдут из строя: а). все детали б). только две детали в). хотя бы одна деталь г). от одной до двух деталей?"
      ],
      "metadata": {
        "id": "hiNLervUoMfH"
      }
    },
    {
      "cell_type": "markdown",
      "source": [
        "Когда все детали выйдут из строя"
      ],
      "metadata": {
        "id": "nokKiBrhoo_P"
      }
    },
    {
      "cell_type": "code",
      "source": [
        "0.1 * 0.2 * 0.25"
      ],
      "metadata": {
        "colab": {
          "base_uri": "https://localhost:8080/"
        },
        "id": "ZcZk90xtooSD",
        "outputId": "811a2b2a-abf5-46cc-cec5-aa3da1762a9f"
      },
      "execution_count": 30,
      "outputs": [
        {
          "output_type": "execute_result",
          "data": {
            "text/plain": [
              "0.005000000000000001"
            ]
          },
          "metadata": {},
          "execution_count": 30
        }
      ]
    },
    {
      "cell_type": "markdown",
      "source": [
        "Две детали вышли из строя"
      ],
      "metadata": {
        "id": "_YafYe69pARi"
      }
    },
    {
      "cell_type": "code",
      "source": [
        "0.9 * 0.2 * 0.25 + 0.8 * 0.1 * 0.25 + 0.75 * 0.1 * 0.25"
      ],
      "metadata": {
        "colab": {
          "base_uri": "https://localhost:8080/"
        },
        "id": "7WS6XtgIpoBt",
        "outputId": "38f8079c-fdd0-4a16-8537-b84f7397d77f"
      },
      "execution_count": 31,
      "outputs": [
        {
          "output_type": "execute_result",
          "data": {
            "text/plain": [
              "0.08375"
            ]
          },
          "metadata": {},
          "execution_count": 31
        }
      ]
    },
    {
      "cell_type": "markdown",
      "source": [
        "Хотя бы одна деталь"
      ],
      "metadata": {
        "id": "K388XgPIqXL3"
      }
    },
    {
      "cell_type": "code",
      "source": [
        "1 - 0.9 * 0.8 * 0.75"
      ],
      "metadata": {
        "colab": {
          "base_uri": "https://localhost:8080/"
        },
        "id": "vxhLvfpfqacd",
        "outputId": "39c0b7bf-6d70-43d3-b1fe-cd5875b8c0a7"
      },
      "execution_count": 32,
      "outputs": [
        {
          "output_type": "execute_result",
          "data": {
            "text/plain": [
              "0.45999999999999996"
            ]
          },
          "metadata": {},
          "execution_count": 32
        }
      ]
    },
    {
      "cell_type": "markdown",
      "source": [
        "От одной до двух деталей"
      ],
      "metadata": {
        "id": "y4MHrTC_qpoR"
      }
    },
    {
      "cell_type": "code",
      "source": [
        "1 - 0.9 * 0.8 * 0.75 - 0.1 * 0.2 * 0.25"
      ],
      "metadata": {
        "colab": {
          "base_uri": "https://localhost:8080/"
        },
        "id": "LIFh2vM6qtLH",
        "outputId": "574e3c42-3a18-4a34-ba7d-845974f224d8"
      },
      "execution_count": 33,
      "outputs": [
        {
          "output_type": "execute_result",
          "data": {
            "text/plain": [
              "0.45499999999999996"
            ]
          },
          "metadata": {},
          "execution_count": 33
        }
      ]
    }
  ]
}
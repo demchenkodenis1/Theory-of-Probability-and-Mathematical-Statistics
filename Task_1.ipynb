{
  "nbformat": 4,
  "nbformat_minor": 0,
  "metadata": {
    "colab": {
      "name": "Task_1.ipynb",
      "provenance": [],
      "collapsed_sections": [],
      "authorship_tag": "ABX9TyM3FNl14uPv0doe2LHsX97m",
      "include_colab_link": true
    },
    "kernelspec": {
      "name": "python3",
      "display_name": "Python 3"
    },
    "language_info": {
      "name": "python"
    }
  },
  "cells": [
    {
      "cell_type": "markdown",
      "metadata": {
        "id": "view-in-github",
        "colab_type": "text"
      },
      "source": [
        "<a href=\"https://colab.research.google.com/github/demchenkodenis1/Theory-of-Probability-and-Mathematical-Statistics/blob/lesson_1/Task_1.ipynb\" target=\"_parent\"><img src=\"https://colab.research.google.com/assets/colab-badge.svg\" alt=\"Open In Colab\"/></a>"
      ]
    },
    {
      "cell_type": "markdown",
      "source": [
        "1. Из колоды в 52 карты извлекаются случайным образом 4 карты. a) Найти вероятность того, что все карты – крести. б) Найти вероятность, что среди 4-х карт окажется хотя бы один туз."
      ],
      "metadata": {
        "id": "rJswwD4m0lUP"
      }
    },
    {
      "cell_type": "markdown",
      "source": [
        "а)Из формулы: $$C_n^k = \\frac{n!}{k!(n - k)!}$$"
      ],
      "metadata": {
        "id": "CZKmUGjK4oiZ"
      }
    },
    {
      "cell_type": "code",
      "source": [
        "from math import factorial"
      ],
      "metadata": {
        "id": "M8f0HoNs1JQl"
      },
      "execution_count": 104,
      "outputs": []
    },
    {
      "cell_type": "markdown",
      "source": [
        "n = 4 количество сочетаний карт, k = 4 элементов признака масти - крести в выборке. Вычислим число исходов благоприятсвующих событию"
      ],
      "metadata": {
        "id": "oxto1h8y9ZUE"
      }
    },
    {
      "cell_type": "code",
      "source": [
        "def combinations(n, k):\n",
        "    return int(factorial(n) / (factorial(k) * factorial(n - k)))\n",
        "d = combinations(13, 4)    \n",
        "print(d)"
      ],
      "metadata": {
        "colab": {
          "base_uri": "https://localhost:8080/"
        },
        "id": "mG5k_B-87wav",
        "outputId": "7e2dc35f-5feb-440b-f6f7-c96c433719d4"
      },
      "execution_count": 105,
      "outputs": [
        {
          "output_type": "stream",
          "name": "stdout",
          "text": [
            "715\n"
          ]
        }
      ]
    },
    {
      "cell_type": "markdown",
      "source": [
        "Вычислим общее число исходов, где n = 52 количество карт, k = 4 количество карт в сочетании"
      ],
      "metadata": {
        "id": "fyrGOfro_lJh"
      }
    },
    {
      "cell_type": "code",
      "source": [
        "n = combinations(52, 4)\n",
        "print(n)\n",
        "print(f\"Вероятность, что все карты – крести равна {d/n} или {'%.2f' % (d/n * 100)} %\")"
      ],
      "metadata": {
        "colab": {
          "base_uri": "https://localhost:8080/"
        },
        "id": "ZU84gwBS_slY",
        "outputId": "ebd41cfb-4cdb-4a70-ba15-0585e795b4a8"
      },
      "execution_count": 106,
      "outputs": [
        {
          "output_type": "stream",
          "name": "stdout",
          "text": [
            "270725\n",
            "Вероятность, что все карты – крести равна 0.0026410564225690276 или 0.26 %\n"
          ]
        }
      ]
    },
    {
      "cell_type": "markdown",
      "source": [
        "б)Из условия, что среди 4-х карт окажется хотя бы один туз следует что посчитать нужно для комбинаций с наличием тузов от 1 до 4 штук"
      ],
      "metadata": {
        "id": "txWkG0T_OWtY"
      }
    },
    {
      "cell_type": "markdown",
      "source": [
        "Первая комбинация с одним тузом из 4 карт:"
      ],
      "metadata": {
        "id": "4t8lqbBZQOuF"
      }
    },
    {
      "cell_type": "code",
      "source": [
        "a = combinations(4, 1)\n",
        "print(f\"{a}\")"
      ],
      "metadata": {
        "colab": {
          "base_uri": "https://localhost:8080/"
        },
        "id": "Rh1wV4kXP7rJ",
        "outputId": "41d52ac5-291b-4a50-afd5-73168d9258e3"
      },
      "execution_count": 107,
      "outputs": [
        {
          "output_type": "stream",
          "name": "stdout",
          "text": [
            "4\n"
          ]
        }
      ]
    },
    {
      "cell_type": "markdown",
      "source": [
        "Для другой части не тузов"
      ],
      "metadata": {
        "id": "-qIBHkrnRwsR"
      }
    },
    {
      "cell_type": "code",
      "source": [
        "b = combinations(39, 3)\n",
        "print(f\"{b}\")"
      ],
      "metadata": {
        "colab": {
          "base_uri": "https://localhost:8080/"
        },
        "id": "SX9W4ZFMR1Rj",
        "outputId": "4df5c59c-6d59-4218-987b-f783752330f9"
      },
      "execution_count": 108,
      "outputs": [
        {
          "output_type": "stream",
          "name": "stdout",
          "text": [
            "9139\n"
          ]
        }
      ]
    },
    {
      "cell_type": "code",
      "source": [
        "c_1 = a * b\n",
        "print(f\"C1 = {c_1}\")"
      ],
      "metadata": {
        "colab": {
          "base_uri": "https://localhost:8080/"
        },
        "id": "W0Q63y0NSbSB",
        "outputId": "638dd8b0-db7e-4af0-f6d0-618473833134"
      },
      "execution_count": 109,
      "outputs": [
        {
          "output_type": "stream",
          "name": "stdout",
          "text": [
            "C1 = 36556\n"
          ]
        }
      ]
    },
    {
      "cell_type": "markdown",
      "source": [
        "Вторая комбинация с двумя тузами из 4 карт:"
      ],
      "metadata": {
        "id": "PKpFz6Ci39PY"
      }
    },
    {
      "cell_type": "code",
      "source": [
        "a = combinations(4, 2)\n",
        "print(f\"{a}\")"
      ],
      "metadata": {
        "colab": {
          "base_uri": "https://localhost:8080/"
        },
        "id": "ESg5me807ndM",
        "outputId": "9f38a506-6803-4859-d11c-b4074b17cb1c"
      },
      "execution_count": 110,
      "outputs": [
        {
          "output_type": "stream",
          "name": "stdout",
          "text": [
            "6\n"
          ]
        }
      ]
    },
    {
      "cell_type": "markdown",
      "source": [
        "Для другой части не тузов"
      ],
      "metadata": {
        "id": "B6rMQi-A7sYM"
      }
    },
    {
      "cell_type": "code",
      "source": [
        "b = combinations(39, 2)\n",
        "print(f\"{b}\")"
      ],
      "metadata": {
        "colab": {
          "base_uri": "https://localhost:8080/"
        },
        "id": "-KcpxpMD7xw5",
        "outputId": "dc6bc7a8-1bed-4ef3-8878-f129e6d03c73"
      },
      "execution_count": 111,
      "outputs": [
        {
          "output_type": "stream",
          "name": "stdout",
          "text": [
            "741\n"
          ]
        }
      ]
    },
    {
      "cell_type": "code",
      "source": [
        "c_2 = a * b\n",
        "print(f\"C2 = {c_2}\")"
      ],
      "metadata": {
        "colab": {
          "base_uri": "https://localhost:8080/"
        },
        "id": "m-UA3cAx70lx",
        "outputId": "8c8afffc-5579-4198-ecfa-d14b822dc302"
      },
      "execution_count": 112,
      "outputs": [
        {
          "output_type": "stream",
          "name": "stdout",
          "text": [
            "C2 = 4446\n"
          ]
        }
      ]
    },
    {
      "cell_type": "markdown",
      "source": [
        "Третья комбинация с тремя тузами из 4 карт:"
      ],
      "metadata": {
        "id": "awNE0L6WE4O3"
      }
    },
    {
      "cell_type": "code",
      "source": [
        "a = combinations(4, 3)\n",
        "print(f\"{a}\")"
      ],
      "metadata": {
        "colab": {
          "base_uri": "https://localhost:8080/"
        },
        "id": "smbnTMd5FALH",
        "outputId": "e3de001c-2c24-4636-ad86-20654f1962b5"
      },
      "execution_count": 113,
      "outputs": [
        {
          "output_type": "stream",
          "name": "stdout",
          "text": [
            "4\n"
          ]
        }
      ]
    },
    {
      "cell_type": "markdown",
      "source": [
        "Для другой части не тузов"
      ],
      "metadata": {
        "id": "cCNfGBZKFGE8"
      }
    },
    {
      "cell_type": "code",
      "source": [
        "b = combinations(39, 1)\n",
        "print(f\"{b}\")"
      ],
      "metadata": {
        "colab": {
          "base_uri": "https://localhost:8080/"
        },
        "id": "1JI8-EkUFMxD",
        "outputId": "b4767895-f375-405f-c302-f08751ffd35f"
      },
      "execution_count": 114,
      "outputs": [
        {
          "output_type": "stream",
          "name": "stdout",
          "text": [
            "39\n"
          ]
        }
      ]
    },
    {
      "cell_type": "code",
      "source": [
        "c_3 = a * b\n",
        "print(f\"C3 = {c_3}\")"
      ],
      "metadata": {
        "colab": {
          "base_uri": "https://localhost:8080/"
        },
        "id": "72SQLbW2FdVt",
        "outputId": "778e6726-58a8-43db-bb07-7397e137a05b"
      },
      "execution_count": 115,
      "outputs": [
        {
          "output_type": "stream",
          "name": "stdout",
          "text": [
            "C3 = 156\n"
          ]
        }
      ]
    },
    {
      "cell_type": "markdown",
      "source": [
        "Чутвертая комбинация с четыремя тузами из 4 карт:"
      ],
      "metadata": {
        "id": "Uqwu-rFeFioJ"
      }
    },
    {
      "cell_type": "code",
      "source": [
        "a = combinations(4, 4)\n",
        "print(f\"{a}\")"
      ],
      "metadata": {
        "colab": {
          "base_uri": "https://localhost:8080/"
        },
        "id": "A7L_2seVFwpR",
        "outputId": "826b104c-fba1-431d-f82d-1463adcec3cf"
      },
      "execution_count": 116,
      "outputs": [
        {
          "output_type": "stream",
          "name": "stdout",
          "text": [
            "1\n"
          ]
        }
      ]
    },
    {
      "cell_type": "markdown",
      "source": [
        "Для другой части не тузов"
      ],
      "metadata": {
        "id": "mqq1CARlF1i1"
      }
    },
    {
      "cell_type": "code",
      "source": [
        "b = combinations(39, 0)\n",
        "print(f\"{b}\")"
      ],
      "metadata": {
        "colab": {
          "base_uri": "https://localhost:8080/"
        },
        "id": "NuMVyH72F4Tj",
        "outputId": "0ebcec09-6159-4e73-ea5c-4b1d4fb0bf87"
      },
      "execution_count": 117,
      "outputs": [
        {
          "output_type": "stream",
          "name": "stdout",
          "text": [
            "1\n"
          ]
        }
      ]
    },
    {
      "cell_type": "code",
      "source": [
        "c_4 = a * b\n",
        "print(f\"C4 = {c_4}\")"
      ],
      "metadata": {
        "colab": {
          "base_uri": "https://localhost:8080/"
        },
        "id": "mzf-PCDTF8Xn",
        "outputId": "c31f9fec-2545-4ac6-d17c-52c6354286cf"
      },
      "execution_count": 118,
      "outputs": [
        {
          "output_type": "stream",
          "name": "stdout",
          "text": [
            "C4 = 1\n"
          ]
        }
      ]
    },
    {
      "cell_type": "markdown",
      "source": [
        "Чтобы найти вероятность нужно посчитать отношение числа исходов благоприятствующих событию к общему числу исходов"
      ],
      "metadata": {
        "id": "PcwlDU5uHgwK"
      }
    },
    {
      "cell_type": "code",
      "source": [
        "c = c_1 + c_2 + c_3 + c_4\n",
        "print(f\"C = {c}\")\n",
        "c_ = combinations(52, 4)\n",
        "print(f\"C общее = {c_}\")\n",
        "p = c/c_\n",
        "print(f\"Р = {p}\")\n",
        "print(f\"Вероятность, что среди 4-х карт окажется хотя бы один туз равна {p} или {'%.2f' % (p * 100)} %\")"
      ],
      "metadata": {
        "colab": {
          "base_uri": "https://localhost:8080/"
        },
        "id": "0GczCBInIlUK",
        "outputId": "01708b05-708b-4d62-8114-c557405d0ef9"
      },
      "execution_count": 119,
      "outputs": [
        {
          "output_type": "stream",
          "name": "stdout",
          "text": [
            "C = 41159\n",
            "C общее = 270725\n",
            "Р = 0.15203250530981624\n",
            "Вероятность, что среди 4-х карт окажется хотя бы один туз равна 0.15203250530981624 или 15.20 %\n"
          ]
        }
      ]
    },
    {
      "cell_type": "markdown",
      "source": [
        "2. На входной двери подъезда установлен кодовый замок, содержащий десять кнопок с цифрами от 0 до 9. Код содержит три цифры, которые нужно нажать одновременно. Какова вероятность того, что человек, не знающий код, откроет дверь с первой попытки?"
      ],
      "metadata": {
        "id": "5kg-6kJ2016a"
      }
    },
    {
      "cell_type": "markdown",
      "source": [
        "Поскольку требуется код из 3 цифр из максимально 10 возможных (от 0 до 9) и их порядок не важен (нужно нажать кнопки одновременно). Речь идет о сочетании и премняется формула\n",
        "$$C_n^k = \\frac{n!}{k!(n - k)!}$$"
      ],
      "metadata": {
        "id": "j8bAnu5mYthY"
      }
    },
    {
      "cell_type": "markdown",
      "source": [
        "Вычислим количество общего числа исходов"
      ],
      "metadata": {
        "id": "U0NSOgYYgLdg"
      }
    },
    {
      "cell_type": "code",
      "source": [
        "l = combinations(10, 3)\n",
        "print(f\"C = {l}\")"
      ],
      "metadata": {
        "colab": {
          "base_uri": "https://localhost:8080/"
        },
        "id": "2NyWN6WUZh9b",
        "outputId": "c0053376-2ba7-4dbf-d9ee-db23aca1296f"
      },
      "execution_count": 120,
      "outputs": [
        {
          "output_type": "stream",
          "name": "stdout",
          "text": [
            "C = 120\n"
          ]
        }
      ]
    },
    {
      "cell_type": "markdown",
      "source": [
        "Найдем вероятность как соотношение данного по условию единственного раза к общему числу исходов"
      ],
      "metadata": {
        "id": "Ukx9dNtzgaid"
      }
    },
    {
      "cell_type": "code",
      "source": [
        "p = 1/l\n",
        "print(f\"Р = {p}\")\n",
        "print(f\"Вероятность, что человек, не знающий код, откроет дверь с первой попытки равна {p} или {'%.2f' % (p * 100)} %\")"
      ],
      "metadata": {
        "colab": {
          "base_uri": "https://localhost:8080/"
        },
        "id": "Fdvi-7hkgnpx",
        "outputId": "7e3f9723-91a4-48bb-f4d3-3fc3ab43dfca"
      },
      "execution_count": 121,
      "outputs": [
        {
          "output_type": "stream",
          "name": "stdout",
          "text": [
            "Р = 0.008333333333333333\n",
            "Вероятность, что человек, не знающий код, откроет дверь с первой попытки равна 0.008333333333333333 или 0.83 %\n"
          ]
        }
      ]
    },
    {
      "cell_type": "markdown",
      "source": [
        "3. В ящике имеется 15 деталей, из которых 9 окрашены. Рабочий случайным образом извлекает 3 детали. Какова вероятность того, что все извлеченные детали окрашены?"
      ],
      "metadata": {
        "id": "gNAbFjM71BWQ"
      }
    },
    {
      "cell_type": "markdown",
      "source": [
        "Поскольку порядок не важен и в выборке участвует не полное кол-во, применяем сочетание"
      ],
      "metadata": {
        "id": "CJZ4q1AQm5NE"
      }
    },
    {
      "cell_type": "markdown",
      "source": [
        "Расчитаем количество благоприятного исхода для окрашенных фигур"
      ],
      "metadata": {
        "id": "Hg2P71TAxvlG"
      }
    },
    {
      "cell_type": "code",
      "source": [
        "def combinations(n, k):\n",
        "    return int(factorial(n) / (factorial(k) * factorial(n - k)))\n",
        "f = combinations(9, 3)\n",
        "print(f\"{f}\")"
      ],
      "metadata": {
        "colab": {
          "base_uri": "https://localhost:8080/"
        },
        "id": "KO9dE4baq6T8",
        "outputId": "560e39e8-01ba-4645-9500-011ebbedde57"
      },
      "execution_count": 122,
      "outputs": [
        {
          "output_type": "stream",
          "name": "stdout",
          "text": [
            "84\n"
          ]
        }
      ]
    },
    {
      "cell_type": "markdown",
      "source": [
        "Расчитаем количество благоприятного исхода для не окрашенных фигур"
      ],
      "metadata": {
        "id": "LbqsGpGQrfPa"
      }
    },
    {
      "cell_type": "code",
      "source": [
        "combinations(6, 0)"
      ],
      "metadata": {
        "colab": {
          "base_uri": "https://localhost:8080/"
        },
        "id": "hthcP4Rqq6RG",
        "outputId": "d5c96544-2cf5-4b23-93e1-79b2a5adc2d8"
      },
      "execution_count": 123,
      "outputs": [
        {
          "output_type": "execute_result",
          "data": {
            "text/plain": [
              "1"
            ]
          },
          "metadata": {},
          "execution_count": 123
        }
      ]
    },
    {
      "cell_type": "code",
      "source": [
        "print(f\"C = {1 * f}\")"
      ],
      "metadata": {
        "colab": {
          "base_uri": "https://localhost:8080/"
        },
        "id": "gNYGA4qyrtab",
        "outputId": "9357f31f-9b82-444c-d3d1-44f8b0388882"
      },
      "execution_count": 124,
      "outputs": [
        {
          "output_type": "stream",
          "name": "stdout",
          "text": [
            "C = 84\n"
          ]
        }
      ]
    },
    {
      "cell_type": "markdown",
      "source": [
        "Посчитаем общее число исходов"
      ],
      "metadata": {
        "id": "rg8aKt-ysT_d"
      }
    },
    {
      "cell_type": "code",
      "source": [
        "r = combinations(15, 3)\n",
        "print(f\"C общее = {r}\")"
      ],
      "metadata": {
        "colab": {
          "base_uri": "https://localhost:8080/"
        },
        "id": "BfhgC7AFsn_p",
        "outputId": "e581b45f-ed29-4b1b-f558-80890fab5d46"
      },
      "execution_count": 125,
      "outputs": [
        {
          "output_type": "stream",
          "name": "stdout",
          "text": [
            "C общее = 455\n"
          ]
        }
      ]
    },
    {
      "cell_type": "code",
      "source": [
        "p_1 = f/r\n",
        "print(f\"Вероятность, что все извлеченные детали окрашены {p_1} или {'%.2f' % (p_1 * 100)} %\")"
      ],
      "metadata": {
        "colab": {
          "base_uri": "https://localhost:8080/"
        },
        "id": "dIUek1R4sv35",
        "outputId": "c8aa3327-b466-4ff7-f71b-daed0df85b93"
      },
      "execution_count": 126,
      "outputs": [
        {
          "output_type": "stream",
          "name": "stdout",
          "text": [
            "Вероятность, что все извлеченные детали окрашены 0.18461538461538463 или 18.46 %\n"
          ]
        }
      ]
    },
    {
      "cell_type": "markdown",
      "source": [
        "4. В лотерее 100 билетов. Из них 2 выигрышных. Какова вероятность того, что 2 приобретенных билета окажутся выигрышными?"
      ],
      "metadata": {
        "id": "BUXytBlp1D0b"
      }
    },
    {
      "cell_type": "markdown",
      "source": [
        "Из условия порядок не важен и в выборку не попадает не все количество (только 2 из 100 билетов), значит это сочетание"
      ],
      "metadata": {
        "id": "qZoxo-bp3PrY"
      }
    },
    {
      "cell_type": "markdown",
      "source": [
        "Расчитаем количество благоприятного исхода для 2 лотерейных билетов"
      ],
      "metadata": {
        "id": "FgmLAlUc49bF"
      }
    },
    {
      "cell_type": "code",
      "source": [
        "combinations(2, 2)\n"
      ],
      "metadata": {
        "colab": {
          "base_uri": "https://localhost:8080/"
        },
        "id": "lkbfsnCJ3bS4",
        "outputId": "9268e354-be0f-4a6e-bdec-a75d3637eacc"
      },
      "execution_count": 127,
      "outputs": [
        {
          "output_type": "execute_result",
          "data": {
            "text/plain": [
              "1"
            ]
          },
          "metadata": {},
          "execution_count": 127
        }
      ]
    },
    {
      "cell_type": "markdown",
      "source": [
        "Посчитаем общее число исходов"
      ],
      "metadata": {
        "id": "x3uOlTX25X-f"
      }
    },
    {
      "cell_type": "code",
      "source": [
        "n = combinations(100, 2)\n",
        "print(f\"C общее = {n}\")"
      ],
      "metadata": {
        "colab": {
          "base_uri": "https://localhost:8080/"
        },
        "id": "gkuNY9d45uE0",
        "outputId": "f03916b7-ace8-4e67-98be-e2be164a4aea"
      },
      "execution_count": 128,
      "outputs": [
        {
          "output_type": "stream",
          "name": "stdout",
          "text": [
            "C общее = 4950\n"
          ]
        }
      ]
    },
    {
      "cell_type": "code",
      "source": [
        "p_2 = 1/n\n",
        "print(f\"Вероятность, что 2 приобретенных билета окажутся выигрышными {p_2} или {'%.2f' % (p_2 * 100)} %\")"
      ],
      "metadata": {
        "colab": {
          "base_uri": "https://localhost:8080/"
        },
        "id": "ddSxE9jZ57s3",
        "outputId": "17f67329-7c46-453d-d895-f42b68bd7ed1"
      },
      "execution_count": 129,
      "outputs": [
        {
          "output_type": "stream",
          "name": "stdout",
          "text": [
            "Вероятность, что 2 приобретенных билета окажутся выигрышными 0.00020202020202020202 или 0.02 %\n"
          ]
        }
      ]
    }
  ]
}
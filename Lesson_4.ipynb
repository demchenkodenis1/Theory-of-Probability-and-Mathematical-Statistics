{
  "nbformat": 4,
  "nbformat_minor": 0,
  "metadata": {
    "colab": {
      "name": "Lesson_4.ipynb",
      "provenance": [],
      "collapsed_sections": [],
      "authorship_tag": "ABX9TyMAzAJ2CdvYDK27YMV27dLq",
      "include_colab_link": true
    },
    "kernelspec": {
      "name": "python3",
      "display_name": "Python 3"
    },
    "language_info": {
      "name": "python"
    }
  },
  "cells": [
    {
      "cell_type": "markdown",
      "metadata": {
        "id": "view-in-github",
        "colab_type": "text"
      },
      "source": [
        "<a href=\"https://colab.research.google.com/github/demchenkodenis1/Theory-of-Probability-and-Mathematical-Statistics/blob/lesson_4/Lesson_4.ipynb\" target=\"_parent\"><img src=\"https://colab.research.google.com/assets/colab-badge.svg\" alt=\"Open In Colab\"/></a>"
      ]
    },
    {
      "cell_type": "code",
      "execution_count": 3,
      "metadata": {
        "id": "2904Xjqjy1RM"
      },
      "outputs": [],
      "source": [
        "from math import factorial\n",
        "import numpy as np"
      ]
    },
    {
      "cell_type": "markdown",
      "source": [
        "Случайная непрерывная величина A имеет равномерное распределение на промежутке (200, 800].\n",
        "Найдите ее среднее значение и дисперсию."
      ],
      "metadata": {
        "id": "QM0xXeq9y9VE"
      }
    },
    {
      "cell_type": "code",
      "source": [
        "M = (200 + 800) / 2\n",
        "M"
      ],
      "metadata": {
        "colab": {
          "base_uri": "https://localhost:8080/"
        },
        "id": "RiIFo5qkzZ4q",
        "outputId": "1a0de321-8cf7-436d-e3de-9f4ffb6a5dc3"
      },
      "execution_count": 4,
      "outputs": [
        {
          "output_type": "execute_result",
          "data": {
            "text/plain": [
              "500.0"
            ]
          },
          "metadata": {},
          "execution_count": 4
        }
      ]
    },
    {
      "cell_type": "code",
      "source": [
        "D = (800 - 200)**2/12\n",
        "D"
      ],
      "metadata": {
        "colab": {
          "base_uri": "https://localhost:8080/"
        },
        "id": "j5e3oo2ezrN1",
        "outputId": "b11d96ad-9f77-425b-95c4-32afc4bab5be"
      },
      "execution_count": 5,
      "outputs": [
        {
          "output_type": "execute_result",
          "data": {
            "text/plain": [
              "30000.0"
            ]
          },
          "metadata": {},
          "execution_count": 5
        }
      ]
    },
    {
      "cell_type": "markdown",
      "source": [
        "О случайной непрерывной равномерно распределенной величине B известно, что ее дисперсия равна 0.2.\n",
        "Можно ли найти правую границу величины B и ее среднее значение зная, что левая граница равна 0.5?\n",
        "Если да, найдите ее."
      ],
      "metadata": {
        "id": "u7yiBqq10EOp"
      }
    },
    {
      "cell_type": "markdown",
      "source": [
        "(b - 0.5) 2 /12 = 0.2\n",
        "b - 0.5 = (0.2 12)**1/2 = + 1.549\n",
        "b = 1.549 + 0.5 = 2.05\n",
        "M = 0.5 + 2.05 /2 = 1.275 \n"
      ],
      "metadata": {
        "id": "DHPOlkdF0kij"
      }
    },
    {
      "cell_type": "markdown",
      "source": [
        "Непрерывная случайная величина X распределена нормально и задана плотностью распределения\n",
        "f(x) = (1 / (4 * sqrt(2*pi))) * (exp(-(x+2)**2) / 32).\n",
        "Найдите:\n",
        "а). M(X)\n",
        "б). D(X)\n",
        "в). std(X) (среднее квадратичное отклонение)"
      ],
      "metadata": {
        "id": "7UBNdDtd2EcH"
      }
    },
    {
      "cell_type": "markdown",
      "source": [
        "Воспользуемся формулой $$f(x) = \\frac{1}{\\sigma \\sqrt{2 \\pi}} e ^ {- \\frac{(x - a)^2}{2 \\sigma^2}},$$\n",
        "\n",
        "---\n",
        "где М(Х) = -2\n",
        "ыев(х) = 4\n",
        "D(Х) = 16\n"
      ],
      "metadata": {
        "id": "QV9LIQyzCnin"
      }
    },
    {
      "cell_type": "markdown",
      "source": [
        "Рост взрослого населения города X имеет нормальное распределение.\n",
        "Причем, средний рост равен 174 см, а среднее квадратичное отклонение равно 8 см.\n",
        "Какова вероятность того, что случайным образом выбранный взрослый человек имеет рост:\n",
        "а). больше 182 см\n",
        "б). больше 190 см\n",
        "в). от 166 см до 190 см\n",
        "г). от 166 см до 182 см\n",
        "д). от 158 см до 190 см\n",
        "е). не выше 150 см или не ниже 190 см\n",
        "ё). не выше 150 см или не ниже 198 см\n",
        "ж). ниже 166 см."
      ],
      "metadata": {
        "id": "ye5n2Y27DwGo"
      }
    },
    {
      "cell_type": "code",
      "source": [
        "from scipy.stats import norm\n",
        "1 - norm.cdf(1)"
      ],
      "metadata": {
        "colab": {
          "base_uri": "https://localhost:8080/"
        },
        "id": "aU8AwfzTFdEL",
        "outputId": "9b6b368e-c2cc-4bc2-d597-7e7124891250"
      },
      "execution_count": 6,
      "outputs": [
        {
          "output_type": "execute_result",
          "data": {
            "text/plain": [
              "0.15865525393145707"
            ]
          },
          "metadata": {},
          "execution_count": 6
        }
      ]
    },
    {
      "cell_type": "markdown",
      "source": [
        "На сколько сигм (средних квадратичных отклонений) отклоняется рост человека, равный 190 см, от\n",
        "математического ожидания роста в популяции, в которой M(X) = 178 см и D(X) = 25 кв.см?"
      ],
      "metadata": {
        "id": "sZsQDlbJGq-V"
      }
    },
    {
      "cell_type": "markdown",
      "source": [
        "D(x) = std(x)**2 = 25"
      ],
      "metadata": {
        "id": "7N_5hwEqHR3q"
      }
    },
    {
      "cell_type": "markdown",
      "source": [
        "\n",
        "std = 5\n",
        "X = 190\n",
        "a = 190 - 178/5 "
      ],
      "metadata": {
        "id": "nxs3AhcGGwS9"
      }
    },
    {
      "cell_type": "code",
      "source": [
        "std = 5\n",
        "X = 190\n",
        "a = (190 - 178)/5 \n",
        "a"
      ],
      "metadata": {
        "colab": {
          "base_uri": "https://localhost:8080/"
        },
        "id": "86tdd6btHZW-",
        "outputId": "2a6c2ce8-5e0f-4cc3-f2af-ecabf24dc78f"
      },
      "execution_count": 8,
      "outputs": [
        {
          "output_type": "execute_result",
          "data": {
            "text/plain": [
              "2.4"
            ]
          },
          "metadata": {},
          "execution_count": 8
        }
      ]
    }
  ]
}
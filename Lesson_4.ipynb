{
  "nbformat": 4,
  "nbformat_minor": 0,
  "metadata": {
    "colab": {
      "name": "Lesson_4.ipynb",
      "provenance": [],
      "collapsed_sections": [],
      "authorship_tag": "ABX9TyPWJHwZRLnCMoxt68WKPu1S",
      "include_colab_link": true
    },
    "kernelspec": {
      "name": "python3",
      "display_name": "Python 3"
    },
    "language_info": {
      "name": "python"
    }
  },
  "cells": [
    {
      "cell_type": "markdown",
      "metadata": {
        "id": "view-in-github",
        "colab_type": "text"
      },
      "source": [
        "<a href=\"https://colab.research.google.com/github/demchenkodenis1/Theory-of-Probability-and-Mathematical-Statistics/blob/lesson_4/Lesson_4.ipynb\" target=\"_parent\"><img src=\"https://colab.research.google.com/assets/colab-badge.svg\" alt=\"Open In Colab\"/></a>"
      ]
    },
    {
      "cell_type": "code",
      "execution_count": 1,
      "metadata": {
        "id": "2904Xjqjy1RM"
      },
      "outputs": [],
      "source": [
        "from math import factorial\n",
        "import numpy as np"
      ]
    },
    {
      "cell_type": "markdown",
      "source": [
        "Случайная непрерывная величина A имеет равномерное распределение на промежутке (200, 800].\n",
        "Найдите ее среднее значение и дисперсию."
      ],
      "metadata": {
        "id": "QM0xXeq9y9VE"
      }
    },
    {
      "cell_type": "code",
      "source": [
        "M = (200 + 800) / 2\n",
        "M"
      ],
      "metadata": {
        "colab": {
          "base_uri": "https://localhost:8080/"
        },
        "id": "RiIFo5qkzZ4q",
        "outputId": "3bef2788-eb11-4059-9ca8-c9c270ea8984"
      },
      "execution_count": 2,
      "outputs": [
        {
          "output_type": "execute_result",
          "data": {
            "text/plain": [
              "500.0"
            ]
          },
          "metadata": {},
          "execution_count": 2
        }
      ]
    },
    {
      "cell_type": "code",
      "source": [
        "D = (800 - 200)**2/12\n",
        "D"
      ],
      "metadata": {
        "colab": {
          "base_uri": "https://localhost:8080/"
        },
        "id": "j5e3oo2ezrN1",
        "outputId": "d631807b-9349-4c21-e1fc-14a4b527f481"
      },
      "execution_count": 3,
      "outputs": [
        {
          "output_type": "execute_result",
          "data": {
            "text/plain": [
              "30000.0"
            ]
          },
          "metadata": {},
          "execution_count": 3
        }
      ]
    },
    {
      "cell_type": "markdown",
      "source": [
        "О случайной непрерывной равномерно распределенной величине B известно, что ее дисперсия равна 0.2.\n",
        "Можно ли найти правую границу величины B и ее среднее значение зная, что левая граница равна 0.5?\n",
        "Если да, найдите ее."
      ],
      "metadata": {
        "id": "u7yiBqq10EOp"
      }
    },
    {
      "cell_type": "markdown",
      "source": [
        "(b - 0.5) 2 /12 = 0.2\n",
        "b - 0.5 = (0.2 12)**1/2 = + 1.549\n",
        "b = 1.549 + 0.5 = 2.05\n",
        "M = 0.5 + 2.05 /2 = 1.275 \n"
      ],
      "metadata": {
        "id": "DHPOlkdF0kij"
      }
    },
    {
      "cell_type": "markdown",
      "source": [
        "Непрерывная случайная величина X распределена нормально и задана плотностью распределения\n",
        "f(x) = (1 / (4 * sqrt(2*pi))) * (exp(-(x+2)**2) / 32).\n",
        "Найдите:\n",
        "а). M(X)\n",
        "б). D(X)\n",
        "в). std(X) (среднее квадратичное отклонение)"
      ],
      "metadata": {
        "id": "7UBNdDtd2EcH"
      }
    }
  ]
}